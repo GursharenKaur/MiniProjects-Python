{
  "nbformat": 4,
  "nbformat_minor": 0,
  "metadata": {
    "colab": {
      "provenance": [],
      "authorship_tag": "ABX9TyOva121E89/t80FmEQdfNMI",
      "include_colab_link": true
    },
    "kernelspec": {
      "name": "python3",
      "display_name": "Python 3"
    },
    "language_info": {
      "name": "python"
    }
  },
  "cells": [
    {
      "cell_type": "markdown",
      "metadata": {
        "id": "view-in-github",
        "colab_type": "text"
      },
      "source": [
        "<a href=\"https://colab.research.google.com/github/GursharenKaur/MiniProjects-Python/blob/main/Challenge_Question_PYTHON.ipynb\" target=\"_parent\"><img src=\"https://colab.research.google.com/assets/colab-badge.svg\" alt=\"Open In Colab\"/></a>"
      ]
    },
    {
      "cell_type": "markdown",
      "source": [
        "# **Challenge Question**\n"
      ],
      "metadata": {
        "id": "P5EaLVpmLGTc"
      }
    },
    {
      "cell_type": "markdown",
      "source": [
        "Program to sort a list containing heterogenous elements."
      ],
      "metadata": {
        "id": "LAE3X7D8ktu_"
      }
    },
    {
      "cell_type": "code",
      "source": [
        "def heteroSort(L):\n",
        "  for i in range(0,len(L)):\n",
        "    if type(L[i]) == int:\n",
        "      L[i] = str(L[i])\n",
        "  L.sort()\n",
        "  return L\n",
        "\n",
        "L=['Ram',1,'Shyam',2,'Aman',3]\n",
        "print(L)\n",
        "\n",
        "L1=heteroSort(L)\n",
        "print(L1)"
      ],
      "metadata": {
        "colab": {
          "base_uri": "https://localhost:8080/"
        },
        "id": "gTQVSoEELbt7",
        "outputId": "b5ecf1fd-d449-4f04-9b45-42c50067cfaf"
      },
      "execution_count": null,
      "outputs": [
        {
          "output_type": "stream",
          "name": "stdout",
          "text": [
            "['Ram', 1, 'Shyam', 2, 'Aman', 3]\n",
            "['1', '2', '3', 'Aman', 'Ram', 'Shyam']\n"
          ]
        }
      ]
    }
  ]
}