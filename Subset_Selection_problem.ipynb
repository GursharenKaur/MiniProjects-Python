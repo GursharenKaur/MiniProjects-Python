{
  "nbformat": 4,
  "nbformat_minor": 0,
  "metadata": {
    "colab": {
      "provenance": [],
      "authorship_tag": "ABX9TyMQwdz+CZ51OPMjmr6ufocj",
      "include_colab_link": true
    },
    "kernelspec": {
      "name": "python3",
      "display_name": "Python 3"
    },
    "language_info": {
      "name": "python"
    }
  },
  "cells": [
    {
      "cell_type": "markdown",
      "metadata": {
        "id": "view-in-github",
        "colab_type": "text"
      },
      "source": [
        "<a href=\"https://colab.research.google.com/github/GursharenKaur/MiniProjects-Python/blob/main/Subset_Selection_problem.ipynb\" target=\"_parent\"><img src=\"https://colab.research.google.com/assets/colab-badge.svg\" alt=\"Open In Colab\"/></a>"
      ]
    },
    {
      "cell_type": "markdown",
      "source": [
        "# **SUBSET-SELECTION PROBLEM**"
      ],
      "metadata": {
        "id": "ZuZy8p8EkiTq"
      }
    },
    {
      "cell_type": "markdown",
      "source": [
        "Find all the subsets from a set of numbers whose sum is zero.\n",
        "Constraint: Subset size must be 5. Set={-12, -3, -6, 7, 2, -2, 6, 3, 9, -7, -5, -8, 1, 11, -9, -4}"
      ],
      "metadata": {
        "id": "h3rxrbInlE7_"
      }
    },
    {
      "cell_type": "code",
      "source": [
        "import random as r\n",
        "A={-12, -3, -6, 7, 2, -2, 6, 3, 9, -7, -5, -8, 1, 11, -9, -4}\n",
        "A=list(A)\n",
        "for i in range(0, len(A)):\n",
        "  B= r.sample(A,5)\n",
        "\n",
        "  if sum(B) == 0:\n",
        "    B1 = set(B)\n",
        "    print(\"Set with sum zero= \", B1)"
      ],
      "metadata": {
        "colab": {
          "base_uri": "https://localhost:8080/"
        },
        "id": "MbFCuZvUkqOD",
        "outputId": "be3ee5f9-e69c-46c1-b8a8-d650ebcbbe21"
      },
      "execution_count": null,
      "outputs": [
        {
          "output_type": "stream",
          "name": "stdout",
          "text": [
            "Set with sum zero=  {6, 7, -8, -3, -2}\n",
            "Set with sum zero=  {1, 11, -6, -4, -2}\n"
          ]
        }
      ]
    }
  ]
}